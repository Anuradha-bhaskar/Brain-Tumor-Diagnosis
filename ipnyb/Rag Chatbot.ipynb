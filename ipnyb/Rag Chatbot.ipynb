{
 "cells": [
  {
   "cell_type": "code",
   "id": "initial_id",
   "metadata": {
    "collapsed": true,
    "ExecuteTime": {
     "end_time": "2025-02-26T12:17:10.287668Z",
     "start_time": "2025-02-26T12:17:07.305920Z"
    }
   },
   "source": [
    "import requests\n",
    "from bs4 import BeautifulSoup\n",
    "import pandas as pd\n",
    "\n",
    "# Define the URLs\n",
    "urls = {\n",
    "    \"Glioma Symptoms\": \"https://www.mayoclinic.org/diseases-conditions/glioma/symptoms-causes/syc-20350251\",\n",
    "    \"Glioma Diagnosis\": \"https://www.mayoclinic.org/diseases-conditions/glioma/diagnosis-treatment/drc-20350255\",\n",
    "    \"Meningioma Symptoms\": \"https://www.mayoclinic.org/diseases-conditions/meningioma/symptoms-causes/syc-20355643\",\n",
    "    \"Meningioma Diagnosis\": \"https://www.mayoclinic.org/diseases-conditions/meningioma/diagnosis-treatment/drc-20355648\",\n",
    "    \"Pituitary Tumor Symptoms\": \"https://www.mayoclinic.org/diseases-conditions/pituitary-tumors/symptoms-causes/syc-20350548\",\n",
    "    \"Pituitary Tumor Diagnosis\": \"https://www.mayoclinic.org/diseases-conditions/pituitary-tumors/diagnosis-treatment/drc-20350553\"\n",
    "}\n",
    "\n",
    "# Initialize a list to hold the data\n",
    "data = []\n",
    "\n",
    "# Loop through the URLs and scrape data\n",
    "for title, url in urls.items():\n",
    "    print(f\"Scraping {title} from {url}\")\n",
    "\n",
    "    response = requests.get(url)\n",
    "    soup = BeautifulSoup(response.text, 'html.parser')\n",
    "\n",
    "    # Initialize content text\n",
    "    content_text = []\n",
    "\n",
    "    # Based on the HTML structure, we want to target content div\n",
    "    content_div = soup.find('div', class_='content')\n",
    "\n",
    "    if content_div:\n",
    "        # Get all h2 headers, paragraphs, and unordered lists\n",
    "        elements = content_div.find_all(['h2', 'h3', 'p', 'ul'])\n",
    "\n",
    "        for element in elements:\n",
    "            # If it's a heading, add it with some formatting\n",
    "            if element.name in ['h2', 'h3']:\n",
    "                content_text.append(f\"\\n## {element.get_text().strip()} ##\\n\")\n",
    "\n",
    "            # If it's a paragraph, add its text\n",
    "            elif element.name == 'p':\n",
    "                para_text = element.get_text().strip()\n",
    "                if para_text:  # Only add non-empty paragraphs\n",
    "                    content_text.append(para_text)\n",
    "\n",
    "            # If it's an unordered list, extract all list items\n",
    "            elif element.name == 'ul':\n",
    "                list_items = element.find_all('li')\n",
    "                for item in list_items:\n",
    "                    item_text = item.get_text().strip()\n",
    "                    if item_text:  # Only add non-empty list items\n",
    "                        content_text.append(f\"• {item_text}\")\n",
    "\n",
    "    # If we found content, join it all together\n",
    "    if content_text:\n",
    "        content = ' '.join(content_text)\n",
    "    else:\n",
    "        # If the content div wasn't found or had no relevant content, try another approach\n",
    "        all_text = []\n",
    "\n",
    "        # Try to get sections\n",
    "        sections = soup.find_all('section')\n",
    "        for section in sections:\n",
    "            section_text = section.get_text().strip()\n",
    "            if section_text:\n",
    "                all_text.append(section_text)\n",
    "\n",
    "        # If we found sections, join them\n",
    "        if all_text:\n",
    "            content = ' '.join(all_text)\n",
    "        else:\n",
    "            content = \"Content not found\"\n",
    "\n",
    "    # Append the data\n",
    "    data.append({\n",
    "        \"Title\": title,\n",
    "        \"URL\": url,\n",
    "        \"Content\": content\n",
    "    })\n",
    "    print(f\"Completed scraping {title}\")\n",
    "\n",
    "# Create a DataFrame\n",
    "df = pd.DataFrame(data)\n",
    "\n",
    "# Save to CSV\n",
    "df.to_csv('tumor_information.csv', index=False)\n",
    "print(\"Data has been scraped and saved to 'tumor_information.csv'\")"
   ],
   "outputs": [
    {
     "name": "stdout",
     "output_type": "stream",
     "text": [
      "Scraping Glioma Symptoms from https://www.mayoclinic.org/diseases-conditions/glioma/symptoms-causes/syc-20350251\n",
      "Completed scraping Glioma Symptoms\n",
      "Scraping Glioma Diagnosis from https://www.mayoclinic.org/diseases-conditions/glioma/diagnosis-treatment/drc-20350255\n",
      "Completed scraping Glioma Diagnosis\n",
      "Scraping Meningioma Symptoms from https://www.mayoclinic.org/diseases-conditions/meningioma/symptoms-causes/syc-20355643\n",
      "Completed scraping Meningioma Symptoms\n",
      "Scraping Meningioma Diagnosis from https://www.mayoclinic.org/diseases-conditions/meningioma/diagnosis-treatment/drc-20355648\n",
      "Completed scraping Meningioma Diagnosis\n",
      "Scraping Pituitary Tumor Symptoms from https://www.mayoclinic.org/diseases-conditions/pituitary-tumors/symptoms-causes/syc-20350548\n",
      "Completed scraping Pituitary Tumor Symptoms\n",
      "Scraping Pituitary Tumor Diagnosis from https://www.mayoclinic.org/diseases-conditions/pituitary-tumors/diagnosis-treatment/drc-20350553\n",
      "Completed scraping Pituitary Tumor Diagnosis\n",
      "Data has been scraped and saved to 'tumor_information.csv'\n"
     ]
    }
   ],
   "execution_count": 35
  },
  {
   "cell_type": "code",
   "id": "96b9082a751e2fc5",
   "metadata": {
    "ExecuteTime": {
     "end_time": "2025-02-26T12:17:18.319602Z",
     "start_time": "2025-02-26T12:17:18.296993Z"
    }
   },
   "source": [
    "import pandas as pd\n",
    "\n",
    "# Load the CSV file\n",
    "df = pd.read_csv('../tumor_information.csv')\n",
    "\n",
    "# Display the first few rows to understand its structure\n",
    "print(df)\n"
   ],
   "outputs": [
    {
     "name": "stdout",
     "output_type": "stream",
     "text": [
      "                       Title  \\\n",
      "0            Glioma Symptoms   \n",
      "1           Glioma Diagnosis   \n",
      "2        Meningioma Symptoms   \n",
      "3       Meningioma Diagnosis   \n",
      "4   Pituitary Tumor Symptoms   \n",
      "5  Pituitary Tumor Diagnosis   \n",
      "\n",
      "                                                 URL  \\\n",
      "0  https://www.mayoclinic.org/diseases-conditions...   \n",
      "1  https://www.mayoclinic.org/diseases-conditions...   \n",
      "2  https://www.mayoclinic.org/diseases-conditions...   \n",
      "3  https://www.mayoclinic.org/diseases-conditions...   \n",
      "4  https://www.mayoclinic.org/diseases-conditions...   \n",
      "5  https://www.mayoclinic.org/diseases-conditions...   \n",
      "\n",
      "                                             Content  \n",
      "0  \\n## Overview ##\\n \\n## Glioma ##\\n \\n## Gliom...  \n",
      "1  \\n## Diagnosis ##\\n \\n## Brain tumor MRI ##\\n ...  \n",
      "2  \\n## Overview ##\\n \\n## Meninges ##\\n \\n## Men...  \n",
      "3  \\n## Diagnosis ##\\n \\n## Meningioma ##\\n \\n## ...  \n",
      "4  \\n## Overview ##\\n \\n## Pituitary tumor ##\\n \\...  \n",
      "5  \\n## Diagnosis ##\\n Pituitary tumors often are...  \n"
     ]
    }
   ],
   "execution_count": 36
  },
  {
   "metadata": {
    "ExecuteTime": {
     "end_time": "2025-02-26T12:17:24.707088Z",
     "start_time": "2025-02-26T12:17:24.667964Z"
    }
   },
   "cell_type": "code",
   "source": [
    "import pandas as pd\n",
    "\n",
    "# Load the CSV file\n",
    "df = pd.read_csv('../tumor_information.csv')\n",
    "\n",
    "# Combine 'title' and 'content' columns into a new column\n",
    "df['Combined'] = df['Title'] + \"  \" + df['Content']\n",
    "\n",
    "# Display the updated DataFrame\n",
    "print(df[['Title', 'Content', 'Combined']])\n",
    "\n",
    "df[\"Combined\"].to_csv(\"combined_information.csv\", index=False, sep=\"\\n\", header=False)\n"
   ],
   "id": "73365249091db861",
   "outputs": [
    {
     "name": "stdout",
     "output_type": "stream",
     "text": [
      "                       Title  \\\n",
      "0            Glioma Symptoms   \n",
      "1           Glioma Diagnosis   \n",
      "2        Meningioma Symptoms   \n",
      "3       Meningioma Diagnosis   \n",
      "4   Pituitary Tumor Symptoms   \n",
      "5  Pituitary Tumor Diagnosis   \n",
      "\n",
      "                                             Content  \\\n",
      "0  \\n## Overview ##\\n \\n## Glioma ##\\n \\n## Gliom...   \n",
      "1  \\n## Diagnosis ##\\n \\n## Brain tumor MRI ##\\n ...   \n",
      "2  \\n## Overview ##\\n \\n## Meninges ##\\n \\n## Men...   \n",
      "3  \\n## Diagnosis ##\\n \\n## Meningioma ##\\n \\n## ...   \n",
      "4  \\n## Overview ##\\n \\n## Pituitary tumor ##\\n \\...   \n",
      "5  \\n## Diagnosis ##\\n Pituitary tumors often are...   \n",
      "\n",
      "                                            Combined  \n",
      "0  Glioma Symptoms  \\n## Overview ##\\n \\n## Gliom...  \n",
      "1  Glioma Diagnosis  \\n## Diagnosis ##\\n \\n## Bra...  \n",
      "2  Meningioma Symptoms  \\n## Overview ##\\n \\n## M...  \n",
      "3  Meningioma Diagnosis  \\n## Diagnosis ##\\n \\n##...  \n",
      "4  Pituitary Tumor Symptoms  \\n## Overview ##\\n \\...  \n",
      "5  Pituitary Tumor Diagnosis  \\n## Diagnosis ##\\n...  \n"
     ]
    }
   ],
   "execution_count": 37
  },
  {
   "metadata": {
    "ExecuteTime": {
     "end_time": "2025-02-26T12:53:34.785665Z",
     "start_time": "2025-02-26T12:53:34.769559Z"
    }
   },
   "cell_type": "code",
   "source": [
    "from langchain_text_splitters import RecursiveCharacterTextSplitter\n",
    "from langchain_community.document_loaders import TextLoader\n",
    "\n",
    "raw_documents = TextLoader(\"../combined_information.csv\").load()\n",
    "text_splitter = RecursiveCharacterTextSplitter(chunk_size=500, chunk_overlap=20)\n",
    "documents = text_splitter.split_documents(raw_documents)"
   ],
   "id": "9057e75acd0afab6",
   "outputs": [],
   "execution_count": 58
  },
  {
   "metadata": {
    "ExecuteTime": {
     "end_time": "2025-02-26T12:53:38.358022Z",
     "start_time": "2025-02-26T12:53:38.344945Z"
    }
   },
   "cell_type": "code",
   "source": "documents[0]",
   "id": "7e0edd1fe290a873",
   "outputs": [
    {
     "data": {
      "text/plain": [
       "Document(metadata={'source': 'combined_information.csv'}, page_content='\"Glioma Symptoms  \\n## Overview ##\\n \\n## Glioma ##\\n \\n## Glioma ##')"
      ]
     },
     "execution_count": 59,
     "metadata": {},
     "output_type": "execute_result"
    }
   ],
   "execution_count": 59
  },
  {
   "metadata": {
    "ExecuteTime": {
     "end_time": "2025-02-26T12:53:50.033090Z",
     "start_time": "2025-02-26T12:53:43.895439Z"
    }
   },
   "cell_type": "code",
   "source": [
    "from langchain_chroma import Chroma\n",
    "from langchain_huggingface import HuggingFaceEmbeddings\n",
    "\n",
    "embeddings_model_name = \"sentence-transformers/all-MiniLM-L6-v2\"\n",
    "\n",
    "db_info = Chroma.from_documents(documents, embedding=HuggingFaceEmbeddings(model_name=embeddings_model_name))"
   ],
   "id": "c49d4a2bddf5f44d",
   "outputs": [],
   "execution_count": 60
  },
  {
   "metadata": {
    "ExecuteTime": {
     "end_time": "2025-02-26T12:55:25.020025Z",
     "start_time": "2025-02-26T12:55:16.328001Z"
    }
   },
   "cell_type": "code",
   "source": [
    "import os\n",
    "from dotenv import load_dotenv\n",
    "from langchain_google_genai import ChatGoogleGenerativeAI\n",
    "from langchain.chains import RetrievalQA\n",
    "from langchain.prompts import PromptTemplate\n",
    "\n",
    "template = \"\"\"\n",
    "You are a medical information specialist providing detailed, comprehensive answers about brain tumors.\n",
    "\n",
    "Use the following pieces of context to answer the question. The context contains important medical information\n",
    "about symptoms, diagnoses, and treatments for different types of brain tumors.\n",
    "\n",
    "Context: {context}\n",
    "\n",
    "Question: {question}\n",
    "\n",
    "Detailed Answer:\n",
    "\"\"\"\n",
    "custom_prompt = PromptTemplate.from_template(template)\n",
    "\n",
    "load_dotenv()\n",
    "api_key = os.getenv(\"GEMINI_API_KEY\")\n",
    "# Ensure API Key is loaded\n",
    "if not api_key:\n",
    "    raise ValueError(\"GEMINI_API_KEY not found in environment variables. Please set it in your .env file.\")\n",
    "\n",
    "# Initialize Gemini-1.5-Flash Model with increased max_output_tokens\n",
    "gemini_chat_model = ChatGoogleGenerativeAI(\n",
    "    model=\"gemini-1.5-flash\",\n",
    "    temperature=0.2,\n",
    "    max_output_tokens=1024,  # Adjust this value as needed for longer responses\n",
    "    api_key=api_key\n",
    ")\n",
    "\n",
    "# Create Retrieval-based Q&A Chain\n",
    "qa_chain = RetrievalQA.from_chain_type(\n",
    "    llm=gemini_chat_model,\n",
    "    retriever=db_info.as_retriever(search_kwargs={\"k\": 5}),  # Retrieve more documents\n",
    "    return_source_documents=False,  # No need to return source documents\n",
    "    chain_type=\"stuff\",  # Use stuff chain to include all context\n",
    "    chain_type_kwargs={\n",
    "        \"prompt\": custom_prompt,\n",
    "    }\n",
    ")\n",
    "\n",
    "# Function to Query Gemini AI with Retrieved Info\n",
    "def query_gemini(question):\n",
    "    # Add a system instruction to further enhance the response quality\n",
    "    enhanced_question = question\n",
    "\n",
    "    # Get response\n",
    "    response = qa_chain.invoke(enhanced_question)\n",
    "\n",
    "    # Just return the result directly\n",
    "    return response[\"result\"]\n",
    "\n",
    "# Example Query\n",
    "user_question = \"What are the symptoms of Glioma?\"\n",
    "answer = query_gemini(user_question)\n",
    "\n",
    "print(\"Answer:\", answer)\n"
   ],
   "id": "30008cde4a9961a0",
   "outputs": [
    {
     "name": "stdout",
     "output_type": "stream",
     "text": [
      "Answer: Gliomas present a wide range of symptoms, the specifics of which depend on several factors: the type of glioma, its size, its location within the brain, and its growth rate.  There is no single, universally experienced symptom profile.  However, some common signs and symptoms include:\n",
      "\n",
      "* **Headache:** This is a frequently reported symptom, often characterized by its intensity, particularly being most severe in the mornings.\n",
      "\n",
      "* **Nausea and Vomiting:** These gastrointestinal symptoms can be associated with increased intracranial pressure.\n",
      "\n",
      "* **Cognitive Decline:** This encompasses a broad spectrum of neurological impairments, including problems with thinking, understanding information, memory loss, and changes in personality or increased irritability.\n",
      "\n",
      "* **Vision Problems:**  These can manifest as blurred vision, double vision, or other visual disturbances.\n",
      "\n",
      "\n",
      "It is crucial to remember that the presence of these symptoms does not automatically indicate a glioma.  Many other conditions can cause similar symptoms.  However, if you experience any concerning signs or symptoms, it is vital to seek prompt medical attention from your healthcare provider for proper evaluation and diagnosis.  A thorough examination and potentially further diagnostic tests will be necessary to determine the underlying cause.\n"
     ]
    }
   ],
   "execution_count": 63
  },
  {
   "metadata": {
    "ExecuteTime": {
     "end_time": "2025-02-26T12:55:34.952336Z",
     "start_time": "2025-02-26T12:55:33.044753Z"
    }
   },
   "cell_type": "code",
   "source": [
    "# Example Query\n",
    "user_question = \"What is the chemotherapy?\"\n",
    "answer = query_gemini(user_question)\n",
    "\n",
    "print(\"Answer:\", answer)"
   ],
   "id": "d8c7cc6020d469ff",
   "outputs": [
    {
     "name": "stdout",
     "output_type": "stream",
     "text": [
      "Answer: Chemotherapy, in the context of brain tumor treatment, is the use of drugs to kill cancer cells.  It's frequently used in conjunction with radiation therapy, meaning the two treatments are often administered simultaneously or in close succession.  The specific chemotherapy regimen (the types and doses of drugs used) will vary greatly depending on the type and grade of brain tumor, the patient's overall health, and other factors.  It's crucial to understand that chemotherapy is not a standalone treatment for brain tumors in most cases; it's typically part of a broader treatment plan that may also include surgery, radiation, and/or targeted therapy.  The goal of combining chemotherapy with radiation is often to enhance the effectiveness of both treatments and improve patient outcomes.\n"
     ]
    }
   ],
   "execution_count": 64
  }
 ],
 "metadata": {
  "kernelspec": {
   "display_name": "venv",
   "language": "python",
   "name": "python3"
  },
  "language_info": {
   "codemirror_mode": {
    "name": "ipython",
    "version": 3
   },
   "file_extension": ".py",
   "mimetype": "text/x-python",
   "name": "python",
   "nbconvert_exporter": "python",
   "pygments_lexer": "ipython3",
   "version": "3.12.4"
  }
 },
 "nbformat": 4,
 "nbformat_minor": 5
}
